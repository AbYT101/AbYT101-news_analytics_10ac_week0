{
 "cells": [
  {
   "cell_type": "code",
   "execution_count": null,
   "id": "69c688ee-241e-4e90-8f10-11c0a332af85",
   "metadata": {},
   "outputs": [],
   "source": [
    "import os\n",
    "from collections import Counter\n",
    "\n",
    "import pandas as pd\n",
    "from matplotlib import pyplot as plt\n",
    "import seaborn as sns\n",
    "\n",
    "from nltk.corpus import stopwords\n",
    "from wordcloud import WordCloud\n",
    "\n",
    "import nltk\n",
    "from nltk.tokenize import word_tokenize\n",
    "from nltk.corpus import stopwords\n",
    "from nltk.stem import PorterStemmer\n",
    "import mlflow\n",
    "import mlflow.sklearn\n",
    "import joblib"
   ]
  },
  {
   "cell_type": "code",
   "execution_count": null,
   "id": "33bb6f1b-6d66-466f-a3a0-58be0a42adef",
   "metadata": {},
   "outputs": [],
   "source": [
    "os.chdir('..') \n",
    "from src.loader import NewsDataLoader\n",
    "from src.config import cfg\n",
    "import src.utils as utils"
   ]
  },
  {
   "cell_type": "code",
   "execution_count": null,
   "id": "a5361844-4cbb-47d4-b670-a403cb7565ce",
   "metadata": {},
   "outputs": [],
   "source": [
    "from sklearn.model_selection import train_test_split\n",
    "from sklearn.feature_extraction.text import CountVectorizer\n",
    "from sklearn.naive_bayes import MultinomialNB\n",
    "from sklearn.metrics import accuracy_score, classification_report\n",
    "from sklearn.decomposition import LatentDirichletAllocation\n",
    "from nltk.sentiment.vader import SentimentIntensityAnalyzer"
   ]
  },
  {
   "cell_type": "code",
   "execution_count": null,
   "id": "893caf00-25b6-4893-a19b-bed688966979",
   "metadata": {},
   "outputs": [],
   "source": [
    "loader = NewsDataLoader()"
   ]
  },
  {
   "cell_type": "code",
   "execution_count": null,
   "id": "032f301c-f943-431e-aaa4-2f65158c682e",
   "metadata": {},
   "outputs": [],
   "source": [
    "# Convert the list of messages into a DataFrame\n",
    "news_data = loader.get_news_data()\n",
    "\n",
    "news_data.head(2)"
   ]
  },
  {
   "cell_type": "code",
   "execution_count": null,
   "id": "2f26e178-c386-4137-983c-ff6c5699b7dd",
   "metadata": {},
   "outputs": [],
   "source": [
    "# Download 'punkt' resource\n",
    "nltk.download('punkt')\n",
    "nltk.download('stopwords')"
   ]
  },
  {
   "cell_type": "code",
   "execution_count": null,
   "id": "27d8c7c2-17bc-4afd-8fe9-360f2040bf52",
   "metadata": {},
   "outputs": [],
   "source": [
    "# Apply the cleaning function to the 'text' column\n",
    "news_data['clean_content'] = news_data['content'].apply(utils.get_clean_text)\n",
    "\n",
    "# Remove missing values\n",
    "news_data.dropna(subset=['description'], inplace=True)\n",
    "news_data.isna().sum()"
   ]
  },
  {
   "cell_type": "code",
   "execution_count": null,
   "id": "eee84fcc-fb4a-493b-b00e-ea18f2e9c822",
   "metadata": {
    "scrolled": true
   },
   "outputs": [],
   "source": [
    "print(news_data.columns)"
   ]
  },
  {
   "cell_type": "code",
   "execution_count": null,
   "id": "900fbd37-239e-4219-a23e-a7d0fb6aaa4b",
   "metadata": {},
   "outputs": [],
   "source": [
    "columns_selected = ['description', 'title']\n",
    "news_data_dt = news_data[columns_selected]"
   ]
  },
  {
   "cell_type": "code",
   "execution_count": null,
   "id": "11704812-72f8-4dd2-b5da-7e3416e8cf81",
   "metadata": {},
   "outputs": [],
   "source": [
    "# Train-test split\n",
    "X_train, X_test, y_train, y_test = train_test_split(news_data_dt['title'], news_data_dt['description'], test_size=0.2, random_state=42)\n",
    "print(X_train.shape, X_test.shape, y_train.shape, y_test.shape)"
   ]
  },
  {
   "cell_type": "code",
   "execution_count": null,
   "id": "4824bad2-b719-4ccb-b01f-e62c5ad47860",
   "metadata": {},
   "outputs": [],
   "source": [
    "# Vectorize the text data\n",
    "vectorizer = CountVectorizer()\n",
    "X_train_vec = vectorizer.fit_transform(X_train)\n",
    "X_test_vec = vectorizer.transform(X_test)"
   ]
  },
  {
   "cell_type": "code",
   "execution_count": null,
   "id": "a5ff0a5b-9210-44dd-a0f9-716819b204cf",
   "metadata": {},
   "outputs": [],
   "source": [
    "# Train a Naive Bayes classifier\n",
    "classifier = MultinomialNB()\n",
    "classifier.fit(X_train_vec, y_train)"
   ]
  },
  {
   "cell_type": "code",
   "execution_count": null,
   "id": "93f2325a-8a4d-4a8f-837e-53b08f20eace",
   "metadata": {},
   "outputs": [],
   "source": [
    "# Make predictions and Evaluate the model\n",
    "predictions = classifier.predict(X_test_vec)\n",
    "accuracy = accuracy_score(y_test, predictions)\n",
    "print(f\"Accuracy : {accuracy}\")\n",
    "print(classification_report(y_test, predictions))"
   ]
  },
  {
   "cell_type": "code",
   "execution_count": null,
   "id": "a5b0b6e3-0976-4cf8-8b48-fd869b685a3b",
   "metadata": {},
   "outputs": [],
   "source": [
    "# Using Latent Dirichlet Allocation (LDA) for Topic Modeling\n",
    "lda = LatentDirichletAllocation(n_components=10, random_state=42)\n",
    "message_topics = lda.fit_transform(X_train_vec)"
   ]
  }
 ],
 "metadata": {
  "kernelspec": {
   "display_name": "Python 3 (ipykernel)",
   "language": "python",
   "name": "python3"
  },
  "language_info": {
   "codemirror_mode": {
    "name": "ipython",
    "version": 3
   },
   "file_extension": ".py",
   "mimetype": "text/x-python",
   "name": "python",
   "nbconvert_exporter": "python",
   "pygments_lexer": "ipython3",
   "version": "3.11.9"
  }
 },
 "nbformat": 4,
 "nbformat_minor": 5
}
