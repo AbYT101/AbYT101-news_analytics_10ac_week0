{
 "cells": [
  {
   "cell_type": "code",
   "execution_count": 2,
   "metadata": {},
   "outputs": [],
   "source": [
    "# Importing necessary packages\n",
    "import sys, os\n",
    "if os.path.abspath(\"..\") not in sys.path:\n",
    "    sys.path.insert(0, os.path.abspath(\"..\"))\n",
    "\n",
    "import src.utils as utils\n",
    "import matplotlib.pyplot as plt\n",
    "import yake\n",
    "import src.utils as util\n",
    "from src.loader import NewsDataLoader\n",
    "from nltk.corpus import stopwords\n",
    "import nltk"
   ]
  },
  {
   "cell_type": "code",
   "execution_count": 3,
   "metadata": {},
   "outputs": [],
   "source": [
    "# Initiating objects\n",
    "loader = NewsDataLoader()\n",
    "news_data = loader.get_news_data()\n",
    "traffic = loader.get_traffic_data()\n",
    "domain = loader.get_domain_location_data()\n",
    "\n",
    "os.chdir('..')\n",
    "\n",
    "kw_extractor = yake.KeywordExtractor()"
   ]
  },
  {
   "cell_type": "code",
   "execution_count": 4,
   "metadata": {},
   "outputs": [
    {
     "data": {
      "text/plain": [
       "Index(['article_id', 'source_id', 'source_name', 'author', 'title',\n",
       "       'description', 'url', 'url_to_image', 'published_at', 'content',\n",
       "       'category', 'article', 'title_sentiment'],\n",
       "      dtype='object')"
      ]
     },
     "execution_count": 4,
     "metadata": {},
     "output_type": "execute_result"
    }
   ],
   "source": [
    "# check columns\n",
    "news_data.columns"
   ]
  },
  {
   "cell_type": "code",
   "execution_count": 5,
   "metadata": {},
   "outputs": [],
   "source": [
    "test_content = news_data.head(2)['content'][1]"
   ]
  },
  {
   "cell_type": "code",
   "execution_count": 6,
   "metadata": {},
   "outputs": [
    {
     "name": "stdout",
     "output_type": "stream",
     "text": [
      "('Hicham Boudaoui goal', 0.002511861746285796)\n",
      "('second-half Hicham Boudaoui', 0.0025118617462857964)\n",
      "('lowly Clermont Foot', 0.0025118617462857964)\n",
      "('Foot on Friday', 0.0072924691533075596)\n",
      "('Hicham Boudaoui', 0.010648804518731927)\n",
      "('Clermont Foot', 0.010648804518731927)\n",
      "('second-half Hicham', 0.023744920762562488)\n",
      "('Boudaoui goal', 0.023744920762562488)\n",
      "('lowly Clermont', 0.023744920762562488)\n",
      "('moved into provisional', 0.053804342030416036)\n",
      "('provisional first place', 0.053804342030416036)\n",
      "('goal that secured', 0.053804342030416036)\n",
      "('win at lowly', 0.053804342030416036)\n",
      "('Ligue', 0.07052916133628977)\n",
      "('Friday', 0.07052916133628977)\n",
      "('Nice moved', 0.07742423445237898)\n",
      "('Hicham', 0.10264795322139568)\n",
      "('Boudaoui', 0.10264795322139568)\n",
      "('Clermont', 0.10264795322139568)\n",
      "('Foot', 0.10264795322139568)\n"
     ]
    }
   ],
   "source": [
    "\n",
    "keywords = kw_extractor.extract_keywords(test_content)\n",
    "\n",
    "for kw in keywords:\n",
    "    print(kw)"
   ]
  },
  {
   "cell_type": "code",
   "execution_count": 7,
   "metadata": {},
   "outputs": [
    {
     "data": {
      "text/plain": [
       "article_id             0\n",
       "source_id          40585\n",
       "source_name            0\n",
       "author              2163\n",
       "title                  0\n",
       "description           10\n",
       "url                    0\n",
       "url_to_image        3451\n",
       "published_at           0\n",
       "content                0\n",
       "category              21\n",
       "article                0\n",
       "title_sentiment        0\n",
       "dtype: int64"
      ]
     },
     "execution_count": 7,
     "metadata": {},
     "output_type": "execute_result"
    }
   ],
   "source": [
    "news_data.isna().sum()\n"
   ]
  },
  {
   "cell_type": "code",
   "execution_count": 8,
   "metadata": {},
   "outputs": [
    {
     "name": "stderr",
     "output_type": "stream",
     "text": [
      "[nltk_data] Downloading package punkt to\n",
      "[nltk_data]     C:\\Users\\aberh\\AppData\\Roaming\\nltk_data...\n",
      "[nltk_data]   Package punkt is already up-to-date!\n"
     ]
    },
    {
     "data": {
      "text/plain": [
       "True"
      ]
     },
     "execution_count": 8,
     "metadata": {},
     "output_type": "execute_result"
    }
   ],
   "source": [
    "nltk.download('punkt')"
   ]
  },
  {
   "cell_type": "code",
   "execution_count": 9,
   "metadata": {},
   "outputs": [
    {
     "data": {
      "text/plain": [
       "article_id            0\n",
       "source_name           0\n",
       "title                 0\n",
       "description           0\n",
       "url                   0\n",
       "published_at          0\n",
       "content               0\n",
       "category              0\n",
       "article               0\n",
       "title_sentiment       0\n",
       "domain                0\n",
       "global_rank        7381\n",
       "dtype: int64"
      ]
     },
     "execution_count": 9,
     "metadata": {},
     "output_type": "execute_result"
    }
   ],
   "source": [
    "news_data['domain'] = news_data['url'].apply(utils.get_domain)\n",
    "\n",
    "merged_news_df = news_data.merge(traffic[['Domain', 'GlobalRank']], left_on='domain', right_on='Domain', how='left')\n",
    "\n",
    "# Drop the extra 'Domain' column\n",
    "merged_news_df = merged_news_df.drop(columns='Domain')\n",
    "\n",
    "# Rename the 'GlobalRank' column to 'global_rank'\n",
    "merged_news_df = merged_news_df.rename(columns={'GlobalRank': 'global_rank'})\n",
    "\n",
    "#drop source_id column, author, url_to_image\n",
    "merged_news_df = merged_news_df.drop(columns=['source_id', 'author', 'url_to_image'])\n",
    "\n",
    "# Drop description and category rows with missing values\n",
    "merged_news_df = merged_news_df.dropna(subset=['description', 'category'])\n",
    "\n",
    "merged_news_df.head(1)\n",
    "merged_news_df.isna().sum()"
   ]
  },
  {
   "cell_type": "code",
   "execution_count": null,
   "metadata": {},
   "outputs": [],
   "source": []
  }
 ],
 "metadata": {
  "kernelspec": {
   "display_name": "env1",
   "language": "python",
   "name": "python3"
  },
  "language_info": {
   "codemirror_mode": {
    "name": "ipython",
    "version": 3
   },
   "file_extension": ".py",
   "mimetype": "text/x-python",
   "name": "python",
   "nbconvert_exporter": "python",
   "pygments_lexer": "ipython3",
   "version": "3.11.9"
  }
 },
 "nbformat": 4,
 "nbformat_minor": 2
}
