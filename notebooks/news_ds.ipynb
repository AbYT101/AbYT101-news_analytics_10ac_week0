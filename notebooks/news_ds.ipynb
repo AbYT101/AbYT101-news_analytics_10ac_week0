{
 "cells": [
  {
   "cell_type": "code",
   "execution_count": 8,
   "metadata": {},
   "outputs": [
    {
     "ename": "ModuleNotFoundError",
     "evalue": "No module named 'src'",
     "output_type": "error",
     "traceback": [
      "\u001b[1;31m---------------------------------------------------------------------------\u001b[0m",
      "\u001b[1;31mModuleNotFoundError\u001b[0m                       Traceback (most recent call last)",
      "Cell \u001b[1;32mIn[8], line 8\u001b[0m\n\u001b[0;32m      6\u001b[0m \u001b[38;5;28;01mfrom\u001b[39;00m \u001b[38;5;21;01mmatplotlib\u001b[39;00m \u001b[38;5;28;01mimport\u001b[39;00m pyplot \u001b[38;5;28;01mas\u001b[39;00m plt\n\u001b[0;32m      7\u001b[0m \u001b[38;5;28;01mimport\u001b[39;00m \u001b[38;5;21;01myake\u001b[39;00m\n\u001b[1;32m----> 8\u001b[0m \u001b[38;5;28;01mfrom\u001b[39;00m \u001b[38;5;21;01msrc\u001b[39;00m\u001b[38;5;21;01m.\u001b[39;00m\u001b[38;5;21;01mloader\u001b[39;00m \u001b[38;5;28;01mimport\u001b[39;00m NewsDataLoader\n\u001b[0;32m      9\u001b[0m \u001b[38;5;28;01mfrom\u001b[39;00m \u001b[38;5;21;01msrc\u001b[39;00m\u001b[38;5;21;01m.\u001b[39;00m\u001b[38;5;21;01mconfig\u001b[39;00m \u001b[38;5;28;01mimport\u001b[39;00m cfg\n\u001b[0;32m     11\u001b[0m os\u001b[38;5;241m.\u001b[39mchdir(\u001b[38;5;124m'\u001b[39m\u001b[38;5;124m.\u001b[39m\u001b[38;5;124m'\u001b[39m)\n",
      "\u001b[1;31mModuleNotFoundError\u001b[0m: No module named 'src'"
     ]
    }
   ],
   "source": [
    "import os, sys\n",
    "import re\n",
    "from collections import Counter\n",
    "\n",
    "import pandas as pd\n",
    "from matplotlib import pyplot as plt\n",
    "import yake\n",
    "from src.loader import NewsDataLoader\n",
    "from src.config import cfg\n",
    "\n",
    "os.chdir('.')"
   ]
  },
  {
   "cell_type": "code",
   "execution_count": 3,
   "metadata": {},
   "outputs": [
    {
     "ename": "NameError",
     "evalue": "name 'NewsDataLoader' is not defined",
     "output_type": "error",
     "traceback": [
      "\u001b[1;31m---------------------------------------------------------------------------\u001b[0m",
      "\u001b[1;31mNameError\u001b[0m                                 Traceback (most recent call last)",
      "Cell \u001b[1;32mIn[3], line 1\u001b[0m\n\u001b[1;32m----> 1\u001b[0m news_data_loader \u001b[38;5;241m=\u001b[39m \u001b[43mNewsDataLoader\u001b[49m()\n\u001b[0;32m      2\u001b[0m kw_extractor \u001b[38;5;241m=\u001b[39m yake\u001b[38;5;241m.\u001b[39mKeywordExtractor()\n",
      "\u001b[1;31mNameError\u001b[0m: name 'NewsDataLoader' is not defined"
     ]
    }
   ],
   "source": [
    "news_data_loader = NewsDataLoader()\n",
    "kw_extractor = yake.KeywordExtractor()"
   ]
  },
  {
   "cell_type": "code",
   "execution_count": null,
   "metadata": {},
   "outputs": [],
   "source": [
    "news_data = news_data_loader.load_data('../data/rating.csv')"
   ]
  },
  {
   "cell_type": "code",
   "execution_count": null,
   "metadata": {},
   "outputs": [
    {
     "data": {
      "text/plain": [
       "Index(['article_id', 'source_id', 'source_name', 'author', 'title',\n",
       "       'description', 'url', 'url_to_image', 'published_at', 'content',\n",
       "       'category', 'article', 'title_sentiment'],\n",
       "      dtype='object')"
      ]
     },
     "execution_count": 10,
     "metadata": {},
     "output_type": "execute_result"
    }
   ],
   "source": [
    "# check columns\n",
    "news_data.columns"
   ]
  },
  {
   "cell_type": "code",
   "execution_count": null,
   "metadata": {},
   "outputs": [],
   "source": [
    "test_content = news_data.head(2)['content'][1]"
   ]
  },
  {
   "cell_type": "code",
   "execution_count": null,
   "metadata": {},
   "outputs": [
    {
     "name": "stdout",
     "output_type": "stream",
     "text": [
      "('Hicham Boudaoui goal', 0.002511861746285796)\n",
      "('second-half Hicham Boudaoui', 0.0025118617462857964)\n",
      "('lowly Clermont Foot', 0.0025118617462857964)\n",
      "('Foot on Friday', 0.0072924691533075596)\n",
      "('Hicham Boudaoui', 0.010648804518731927)\n",
      "('Clermont Foot', 0.010648804518731927)\n",
      "('second-half Hicham', 0.023744920762562488)\n",
      "('Boudaoui goal', 0.023744920762562488)\n",
      "('lowly Clermont', 0.023744920762562488)\n",
      "('moved into provisional', 0.053804342030416036)\n",
      "('provisional first place', 0.053804342030416036)\n",
      "('goal that secured', 0.053804342030416036)\n",
      "('win at lowly', 0.053804342030416036)\n",
      "('Ligue', 0.07052916133628977)\n",
      "('Friday', 0.07052916133628977)\n",
      "('Nice moved', 0.07742423445237898)\n",
      "('Hicham', 0.10264795322139568)\n",
      "('Boudaoui', 0.10264795322139568)\n",
      "('Clermont', 0.10264795322139568)\n",
      "('Foot', 0.10264795322139568)\n"
     ]
    }
   ],
   "source": [
    "\n",
    "keywords = kw_extractor.extract_keywords(test_content)\n",
    "\n",
    "for kw in keywords:\n",
    "    print(kw)"
   ]
  }
 ],
 "metadata": {
  "kernelspec": {
   "display_name": "env1",
   "language": "python",
   "name": "python3"
  },
  "language_info": {
   "codemirror_mode": {
    "name": "ipython",
    "version": 3
   },
   "file_extension": ".py",
   "mimetype": "text/x-python",
   "name": "python",
   "nbconvert_exporter": "python",
   "pygments_lexer": "ipython3",
   "version": "3.11.9"
  }
 },
 "nbformat": 4,
 "nbformat_minor": 2
}
